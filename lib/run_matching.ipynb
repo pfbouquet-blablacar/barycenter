{
 "cells": [
  {
   "cell_type": "code",
   "execution_count": 1,
   "metadata": {},
   "outputs": [
    {
     "name": "stderr",
     "output_type": "stream",
     "text": [
      "/Users/pf.bouquet/.virtualenvs/py3_smartmeetingplace/lib/python3.7/site-packages/ipykernel_launcher.py:7: YAMLLoadWarning: calling yaml.load() without Loader=... is deprecated, as the default Loader is unsafe. Please read https://msg.pyyaml.org/load for full details.\n",
      "  import sys\n"
     ]
    }
   ],
   "source": [
    "import yaml\n",
    "import numpy as np\n",
    "from lib import tools\n",
    "from lib import matching\n",
    "\n",
    "with open(\"conf/credentials.yaml\", 'r') as ymlfile:\n",
    "    credentials = yaml.load(ymlfile)\n",
    "\n",
    "database_uri = tools.get_database_uri(**credentials['db'])\n",
    "\n",
    "size = 10\n",
    "\n",
    "coordinates = [\n",
    "    (\n",
    "        2.337960+(np.random.rand()-0.5)*0.1,\n",
    "        48.8771+(np.random.rand()-0.5)*0.1\n",
    "    ) for i in range(size)\n",
    "]\n",
    "\n",
    "best_places = matching.match_bars(coordinates, database_uri, limit=3)"
   ]
  },
  {
   "cell_type": "code",
   "execution_count": 2,
   "metadata": {},
   "outputs": [
    {
     "name": "stdout",
     "output_type": "stream",
     "text": [
      "time: 170 > 2 places\n",
      "time: 180 > 14 places\n",
      "time: 190 > 40 places\n",
      "time: 200 > 87 places\n"
     ]
    },
    {
     "data": {
      "text/plain": [
       "[{'business_id': 'R5ImUtOW5c6rEDQUPu94FQ',\n",
       "  'name': 'Le Rubis',\n",
       "  'categories': [{'alias': 'brasseries', 'title': 'Brasseries'},\n",
       "   {'alias': 'french', 'title': 'French'},\n",
       "   {'alias': 'wine_bars', 'title': 'Wine Bars'}],\n",
       "  'price': '€',\n",
       "  'rating': 4.0,\n",
       "  'review_count': 48,\n",
       "  'location': {'address1': '10 rue du Marché Saint-Honoré',\n",
       "   'address2': '',\n",
       "   'address3': '',\n",
       "   'city': 'Paris',\n",
       "   'zip_code': '75001',\n",
       "   'country': 'FR',\n",
       "   'state': '75',\n",
       "   'display_address': ['10 rue du Marché Saint-Honoré',\n",
       "    '75001 Paris',\n",
       "    'France']},\n",
       "  'latitude': 48.86623,\n",
       "  'longitude': 2.3313799,\n",
       "  'phone': '+33142610334',\n",
       "  'image_url': 'https://s3-media4.fl.yelpcdn.com/bphoto/e6vOnWPN2Z-46OlkFF7kWQ/o.jpg',\n",
       "  'url': 'https://www.yelp.com/biz/le-rubis-paris-2?adjust_creative=j2fKPrjl8fDIDrHPWiIN9A&utm_campaign=yelp_api_v3&utm_medium=api_v3_business_search&utm_source=j2fKPrjl8fDIDrHPWiIN9A',\n",
       "  'time': 190,\n",
       "  'score': 2.682185959048998},\n",
       " {'business_id': 'dKZo3hRz0sSsQrdahj45uA',\n",
       "  'name': 'Ellsworth',\n",
       "  'categories': [{'alias': 'wine_bars', 'title': 'Wine Bars'},\n",
       "   {'alias': 'french', 'title': 'French'}],\n",
       "  'price': '€€€',\n",
       "  'rating': 4.5,\n",
       "  'review_count': 99,\n",
       "  'location': {'address1': '34 rue de Richelieu',\n",
       "   'address2': '',\n",
       "   'address3': '',\n",
       "   'city': 'Paris',\n",
       "   'zip_code': '75001',\n",
       "   'country': 'FR',\n",
       "   'state': '75',\n",
       "   'display_address': ['34 rue de Richelieu', '75001 Paris', 'France']},\n",
       "  'latitude': 48.86558,\n",
       "  'longitude': 2.33689,\n",
       "  'phone': '+33142605966',\n",
       "  'image_url': 'https://s3-media2.fl.yelpcdn.com/bphoto/YqHLLxUdjU9ENBVW0giIBg/o.jpg',\n",
       "  'url': 'https://www.yelp.com/biz/ellsworth-paris?adjust_creative=j2fKPrjl8fDIDrHPWiIN9A&utm_campaign=yelp_api_v3&utm_medium=api_v3_business_search&utm_source=j2fKPrjl8fDIDrHPWiIN9A',\n",
       "  'time': 190,\n",
       "  'score': 2.6333333333333333},\n",
       " {'business_id': '4KMh8cMgIXwpJtBqaYdw0Q',\n",
       "  'name': 'Les Caves Populaires',\n",
       "  'categories': [{'alias': 'wine_bars', 'title': 'Wine Bars'},\n",
       "   {'alias': 'cocktailbars', 'title': 'Cocktail Bars'},\n",
       "   {'alias': 'french', 'title': 'French'}],\n",
       "  'price': '€',\n",
       "  'rating': 4.0,\n",
       "  'review_count': 36,\n",
       "  'location': {'address1': '22 rue des Dames',\n",
       "   'address2': '',\n",
       "   'address3': '',\n",
       "   'city': 'Paris',\n",
       "   'zip_code': '75017',\n",
       "   'country': 'FR',\n",
       "   'state': '75',\n",
       "   'display_address': ['22 rue des Dames', '75017 Paris', 'France']},\n",
       "  'latitude': 48.88474,\n",
       "  'longitude': 2.32459,\n",
       "  'phone': '+33153040832',\n",
       "  'image_url': 'https://s3-media2.fl.yelpcdn.com/bphoto/9WbSZcSvLlcOxFeFi9unuA/o.jpg',\n",
       "  'url': 'https://www.yelp.com/biz/les-caves-populaires-paris?adjust_creative=j2fKPrjl8fDIDrHPWiIN9A&utm_campaign=yelp_api_v3&utm_medium=api_v3_business_search&utm_source=j2fKPrjl8fDIDrHPWiIN9A',\n",
       "  'time': 200,\n",
       "  'score': 2.593202848109227}]"
      ]
     },
     "execution_count": 2,
     "metadata": {},
     "output_type": "execute_result"
    }
   ],
   "source": [
    "%timeit\n",
    "\n",
    "best_places"
   ]
  },
  {
   "cell_type": "code",
   "execution_count": null,
   "metadata": {},
   "outputs": [],
   "source": []
  }
 ],
 "metadata": {
  "kernelspec": {
   "display_name": "py3_smartmeetingplace",
   "language": "python",
   "name": "py3_smartmeetingplace"
  },
  "language_info": {
   "codemirror_mode": {
    "name": "ipython",
    "version": 3
   },
   "file_extension": ".py",
   "mimetype": "text/x-python",
   "name": "python",
   "nbconvert_exporter": "python",
   "pygments_lexer": "ipython3",
   "version": "3.7.3"
  }
 },
 "nbformat": 4,
 "nbformat_minor": 2
}
