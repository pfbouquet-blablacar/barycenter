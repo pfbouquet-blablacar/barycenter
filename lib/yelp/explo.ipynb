{
 "cells": [
  {
   "cell_type": "code",
   "execution_count": 2,
   "metadata": {},
   "outputs": [],
   "source": [
    "import argparse\n",
    "import json\n",
    "import pprint\n",
    "import requests\n",
    "import sys\n",
    "import urllib\n"
   ]
  },
  {
   "cell_type": "code",
   "execution_count": 3,
   "metadata": {},
   "outputs": [],
   "source": [
    "from urllib.error import HTTPError\n",
    "from urllib.parse import quote\n",
    "from urllib.parse import urlencode\n"
   ]
  },
  {
   "cell_type": "code",
   "execution_count": 4,
   "metadata": {},
   "outputs": [],
   "source": [
    "API_KEY = '00M3LvZ4g_sZ0jAR2rLhSzAAaSV5QlQApZPc-djlVYGd1XQhEypxDShKb2EcguoNBKEGtQKhir5G1TeHnL1yHnVzLvnRHa6v-QrPgS2YyYxNCnW8Gin3b0PhCMP4XHYx'\n"
   ]
  },
  {
   "cell_type": "code",
   "execution_count": 5,
   "metadata": {},
   "outputs": [],
   "source": [
    "# API constants, you shouldn't have to change these.\n",
    "API_HOST = 'https://api.yelp.com'\n",
    "SEARCH_PATH = '/v3/businesses/search'\n",
    "BUSINESS_PATH = '/v3/businesses/'  # Business ID will come after slash.\n"
   ]
  },
  {
   "cell_type": "code",
   "execution_count": 6,
   "metadata": {},
   "outputs": [],
   "source": [
    "# Defaults for our simple example.\n",
    "DEFAULT_TERM = 'bar'\n",
    "DEFAULT_LOCATION = 'Paris, FR'\n",
    "SEARCH_LIMIT = 3\n"
   ]
  },
  {
   "cell_type": "code",
   "execution_count": 18,
   "metadata": {},
   "outputs": [],
   "source": [
    "api_key = API_KEY\n",
    "term = DEFAULT_TERM\n",
    "location = DEFAULT_LOCATION\n",
    "host = API_HOST\n",
    "path = SEARCH_PATH\n",
    "limit = SEARCH_LIMIT\n",
    "\n",
    "url = '{0}{1}'.format(host, quote(path.encode('utf8')))\n",
    "\n",
    "headers = {\n",
    "        'Authorization': 'Bearer %s' % api_key,\n",
    "    }\n",
    "\n",
    "url_params = {\n",
    "    'term': term.replace(' ', '+'),\n",
    "    'location': location.replace(' ', '+'),\n",
    "    'limit': limit\n",
    "}\n",
    "\n",
    "response = requests.request('GET', url, headers=headers, params=url_params)\n"
   ]
  },
  {
   "cell_type": "code",
   "execution_count": 20,
   "metadata": {},
   "outputs": [
    {
     "data": {
      "text/plain": [
       "{'businesses': [{'id': 'PlLL5ZWA-1JBbAjlhtFYvA',\n",
       "   'alias': 'little-red-door-paris',\n",
       "   'name': 'Little Red Door',\n",
       "   'image_url': 'https://s3-media1.fl.yelpcdn.com/bphoto/j4OIEIdy82ji7G9MQsdwlA/o.jpg',\n",
       "   'is_closed': False,\n",
       "   'url': 'https://www.yelp.com/biz/little-red-door-paris?adjust_creative=j2fKPrjl8fDIDrHPWiIN9A&utm_campaign=yelp_api_v3&utm_medium=api_v3_business_search&utm_source=j2fKPrjl8fDIDrHPWiIN9A',\n",
       "   'review_count': 170,\n",
       "   'categories': [{'alias': 'cocktailbars', 'title': 'Cocktail Bars'}],\n",
       "   'rating': 4.5,\n",
       "   'coordinates': {'latitude': 48.86378, 'longitude': 2.3636},\n",
       "   'transactions': [],\n",
       "   'price': '€€',\n",
       "   'location': {'address1': '60 rue Charlot',\n",
       "    'address2': None,\n",
       "    'address3': '',\n",
       "    'city': 'Paris',\n",
       "    'zip_code': '75003',\n",
       "    'country': 'FR',\n",
       "    'state': '75',\n",
       "    'display_address': ['60 rue Charlot', '75003 Paris', 'France']},\n",
       "   'phone': '+33142711932',\n",
       "   'display_phone': '+33 1 42 71 19 32',\n",
       "   'distance': 1582.2632424979508},\n",
       "  {'id': 'PX1hwexNzzxd4-2HR-utUg',\n",
       "   'alias': 'dirty-dick-paris',\n",
       "   'name': 'Dirty Dick',\n",
       "   'image_url': 'https://s3-media4.fl.yelpcdn.com/bphoto/78oDU81TBTUbdEObVip57A/o.jpg',\n",
       "   'is_closed': False,\n",
       "   'url': 'https://www.yelp.com/biz/dirty-dick-paris?adjust_creative=j2fKPrjl8fDIDrHPWiIN9A&utm_campaign=yelp_api_v3&utm_medium=api_v3_business_search&utm_source=j2fKPrjl8fDIDrHPWiIN9A',\n",
       "   'review_count': 239,\n",
       "   'categories': [{'alias': 'cocktailbars', 'title': 'Cocktail Bars'},\n",
       "    {'alias': 'lounges', 'title': 'Lounges'}],\n",
       "   'rating': 4.0,\n",
       "   'coordinates': {'latitude': 48.88153, 'longitude': 2.33751},\n",
       "   'transactions': [],\n",
       "   'price': '€€',\n",
       "   'location': {'address1': '10 rue Frochot',\n",
       "    'address2': None,\n",
       "    'address3': None,\n",
       "    'city': 'Paris',\n",
       "    'zip_code': '75009',\n",
       "    'country': 'FR',\n",
       "    'state': '75',\n",
       "    'display_address': ['10 rue Frochot', '75009 Paris', 'France']},\n",
       "   'phone': '+33148787458',\n",
       "   'display_phone': '+33 1 48 78 74 58',\n",
       "   'distance': 2203.3189753012143},\n",
       "  {'id': 'BSGX_lKM8IAkrgx6W6e_OQ',\n",
       "   'alias': 'le-gatsby-paris-2',\n",
       "   'name': 'Le Gatsby',\n",
       "   'image_url': 'https://s3-media2.fl.yelpcdn.com/bphoto/2Kv5l6NP3qGRqk3fcvL2fg/o.jpg',\n",
       "   'is_closed': False,\n",
       "   'url': 'https://www.yelp.com/biz/le-gatsby-paris-2?adjust_creative=j2fKPrjl8fDIDrHPWiIN9A&utm_campaign=yelp_api_v3&utm_medium=api_v3_business_search&utm_source=j2fKPrjl8fDIDrHPWiIN9A',\n",
       "   'review_count': 13,\n",
       "   'categories': [{'alias': 'bars', 'title': 'Bars'}],\n",
       "   'rating': 5.0,\n",
       "   'coordinates': {'latitude': 48.85501, 'longitude': 2.30504},\n",
       "   'transactions': [],\n",
       "   'price': '€€',\n",
       "   'location': {'address1': '64 avenue Bosquet',\n",
       "    'address2': '',\n",
       "    'address3': None,\n",
       "    'city': 'Paris',\n",
       "    'zip_code': '75007',\n",
       "    'country': 'FR',\n",
       "    'state': '75',\n",
       "    'display_address': ['64 avenue Bosquet', '75007 Paris', 'France']},\n",
       "   'phone': '+33145515624',\n",
       "   'display_phone': '+33 1 45 51 56 24',\n",
       "   'distance': 2821.9304037236316}],\n",
       " 'total': 2800,\n",
       " 'region': {'center': {'longitude': 2.3421478271484375,\n",
       "   'latitude': 48.86195860677958}}}"
      ]
     },
     "execution_count": 20,
     "metadata": {},
     "output_type": "execute_result"
    }
   ],
   "source": [
    "response.json()\n"
   ]
  },
  {
   "cell_type": "code",
   "execution_count": null,
   "metadata": {},
   "outputs": [],
   "source": []
  }
 ],
 "metadata": {
  "kernelspec": {
   "display_name": "py3_smartmeetingplace",
   "language": "python",
   "name": "py3_smartmeetingplace"
  },
  "language_info": {
   "codemirror_mode": {
    "name": "ipython",
    "version": 3
   },
   "file_extension": ".py",
   "mimetype": "text/x-python",
   "name": "python",
   "nbconvert_exporter": "python",
   "pygments_lexer": "ipython3",
   "version": "3.7.3"
  }
 },
 "nbformat": 4,
 "nbformat_minor": 2
}
